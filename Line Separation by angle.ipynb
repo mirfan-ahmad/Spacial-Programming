{
 "cells": [
  {
   "cell_type": "code",
   "execution_count": null,
   "id": "ffb4d4f7",
   "metadata": {},
   "outputs": [],
   "source": [
    "import matplotlib.pyplot as plt\n",
    "import numpy as np"
   ]
  },
  {
   "cell_type": "code",
   "execution_count": null,
   "id": "ae77854b",
   "metadata": {},
   "outputs": [],
   "source": [
    "def translation(x, y, angle):\n",
    "    angle = np.deg2rad(angle)\n",
    "    xd = x * np.cos(angle) + y * np.sin(angle)\n",
    "    yd = y * np.cos(angle) - x * np.sin(angle)\n",
    "    return [0, xd], [0, yd]"
   ]
  },
  {
   "cell_type": "code",
   "execution_count": null,
   "id": "f6a4e7ea",
   "metadata": {},
   "outputs": [],
   "source": [
    "def plotaxis(list, angle, radius):\n",
    "    x, y = translation(radius, 0, angle)\n",
    "    plt.plot(x, y, 'r')\n",
    "    list.append([x, y])\n",
    "    return angle"
   ]
  },
  {
   "cell_type": "code",
   "execution_count": null,
   "id": "f75a1c00",
   "metadata": {},
   "outputs": [],
   "source": [
    "def main():\n",
    "    plt.plot([-20, 20], [0, 0])\n",
    "    plt.plot([0, 0], [-20, 20])\n",
    "    plt.grid(True)\n",
    "    list = []\n",
    "    lines = int(input('How manyLines you want to plot? '))\n",
    "    radius = int(input('Enter Radius? '))\n",
    "    angle = 0\n",
    "    for i in range(lines):\n",
    "        a = int(input('Enter Angle? '))\n",
    "        angle = plotaxis(list, angle+a, radius)\n",
    "    print(list)\n",
    "\n",
    "main()"
   ]
  }
 ],
 "metadata": {
  "kernelspec": {
   "display_name": "Python 3 (ipykernel)",
   "language": "python",
   "name": "python3"
  },
  "language_info": {
   "codemirror_mode": {
    "name": "ipython",
    "version": 3
   },
   "file_extension": ".py",
   "mimetype": "text/x-python",
   "name": "python",
   "nbconvert_exporter": "python",
   "pygments_lexer": "ipython3",
   "version": "3.10.6"
  }
 },
 "nbformat": 4,
 "nbformat_minor": 5
}
